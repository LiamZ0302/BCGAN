{
 "metadata": {
  "language_info": {
   "codemirror_mode": {
    "name": "ipython",
    "version": 3
   },
   "file_extension": ".py",
   "mimetype": "text/x-python",
   "name": "python",
   "nbconvert_exporter": "python",
   "pygments_lexer": "ipython3",
   "version": "3.7.3-final"
  },
  "orig_nbformat": 2,
  "kernelspec": {
   "name": "python3",
   "display_name": "Python 3"
  }
 },
 "nbformat": 4,
 "nbformat_minor": 2,
 "cells": [
  {
   "cell_type": "code",
   "execution_count": 6,
   "metadata": {
    "tags": []
   },
   "outputs": [
    {
     "output_type": "stream",
     "name": "stdout",
     "text": "5\n"
    }
   ],
   "source": [
    "with open(\"../GAN_baseline_CIFAR/fid_record.txt\") as f:\n",
    "    lines = f.readlines()\n",
    "\n",
    "fid_record = []\n",
    "i = -1\n",
    "for line in lines:\n",
    "    if line == 'fid_record:\\n':\n",
    "        fid_record.append([])\n",
    "        i += 1\n",
    "    else:\n",
    "        fid_record[i].append(float(line.strip(\"\\n\")))\n",
    "print(len(fid_record))"
   ]
  },
  {
   "cell_type": "code",
   "execution_count": 7,
   "metadata": {
    "tags": []
   },
   "outputs": [
    {
     "output_type": "stream",
     "name": "stdout",
     "text": "Mean of min fids:37.295428618457876\n\nStd of min fids:9.058059812786752\n"
    }
   ],
   "source": [
    "import numpy as np\n",
    "fid_record = np.array(fid_record)\n",
    "mins = np.min(fid_record, axis=1)\n",
    "print(\"Mean of min fids:\"+str(np.mean(mins))+\"\\n\")\n",
    "print(\"Std of min fids:\"+str(np.std(mins)))\n"
   ]
  },
  {
   "cell_type": "code",
   "execution_count": null,
   "metadata": {},
   "outputs": [],
   "source": []
  },
  {
   "cell_type": "code",
   "execution_count": 8,
   "metadata": {
    "tags": []
   },
   "outputs": [],
   "source": [
    "means = np.mean(fid_record, axis=0)\n",
    "tmp = \"\"\n",
    "for i in means:\n",
    "    tmp = tmp + str(i) + \"\\n\"\n",
    "with open(\"tmp.txt\", \"w\") as f:\n",
    "    f.write(tmp)"
   ]
  },
  {
   "cell_type": "code",
   "execution_count": null,
   "metadata": {},
   "outputs": [],
   "source": []
  }
 ]
}